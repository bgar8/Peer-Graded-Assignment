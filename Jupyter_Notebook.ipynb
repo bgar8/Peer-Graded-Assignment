{
 "cells": [
  {
   "cell_type": "markdown",
   "metadata": {},
   "source": [
    "<center>\n",
    "    <img src=\"https://s3-api.us-geo.objectstorage.softlayer.net/cf-courses-data/CognitiveClass/Logos/organization_logo/organization_logo.png\" width=\"300\" alt=\"cognitiveclass.ai logo\"  />\n",
    "</center>\n"
   ]
  },
  {
   "cell_type": "markdown",
   "metadata": {},
   "source": [
    "#### Add your code below following the instructions given in the course\n"
   ]
  },
  {
   "cell_type": "markdown",
   "metadata": {},
   "source": [
    "# My Jupyter Notebook on IBM Watson Studio #"
   ]
  },
  {
   "cell_type": "markdown",
   "metadata": {},
   "source": [
    "**Brandon Garcia** \n",
    "\n",
    "Current Occupation - Business Operations Analyst \n",
    "\n",
    "Desired Occupation - Data Scientist "
   ]
  },
  {
   "cell_type": "markdown",
   "metadata": {},
   "source": [
    "*I am interested in Data Science because of the amount of Big Data available to explore both publicly and within an organization. All corporations have data structures that can be studied. Also, blockchains present data in an immutable, open format.*"
   ]
  },
  {
   "cell_type": "markdown",
   "metadata": {},
   "source": [
    "### say hello to the world ###"
   ]
  },
  {
   "cell_type": "code",
   "execution_count": 1,
   "metadata": {},
   "outputs": [
    {
     "name": "stdout",
     "output_type": "stream",
     "text": [
      "Hello World!\n"
     ]
    }
   ],
   "source": [
    "print('Hello World!')"
   ]
  },
  {
   "cell_type": "markdown",
   "metadata": {},
   "source": [
    "<main>\n",
    "    <section class = \"card\">\n",
    "        <img \n",
    "src=\"https://cdn.royalcanin-weshare-online.io/UCImMmgBaxEApS7LuQnZ/v2/eukanuba-market-image-puppy-beagle?w=5596&h=2317&rect=574,77,1850,1045&auto=compress,enhance\"     \n",
    "alt=\"This is an active puppy\">\n",
    "    \n",
    "**Puppy Description**        \n",
    "-  happy\n",
    "-  young        \n",
    "-  playful\n",
    "-  active        \n",
    "-  curious        \n",
    "  \n",
    "        \n",
    ">                                                                                                  2022 MLB Homerun leaders        \n",
    "        \n",
    "| Player | Team | Home runs |\n",
    "|---|---|---|\n",
    "| Aaron Judge | Yankees | 53 |      \n",
    "| Kyle Schwarber | Phillies | 36 | \n",
    "| Austin Riley | Braves | 35 |\n",
    "| Paul Goldschmidt | Cardinals | 34 |\n",
    "| Mookie Betts | Dodgers | 33 |        "
   ]
  }
 ],
 "metadata": {
  "kernelspec": {
   "display_name": "Python",
   "language": "python",
   "name": "conda-env-python-py"
  },
  "language_info": {
   "codemirror_mode": {
    "name": "ipython",
    "version": 3
   },
   "file_extension": ".py",
   "mimetype": "text/x-python",
   "name": "python",
   "nbconvert_exporter": "python",
   "pygments_lexer": "ipython3",
   "version": "3.7.12"
  }
 },
 "nbformat": 4,
 "nbformat_minor": 4
}
